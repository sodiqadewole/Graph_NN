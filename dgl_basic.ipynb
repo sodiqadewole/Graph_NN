{
 "metadata": {
  "language_info": {
   "codemirror_mode": {
    "name": "ipython",
    "version": 3
   },
   "file_extension": ".py",
   "mimetype": "text/x-python",
   "name": "python",
   "nbconvert_exporter": "python",
   "pygments_lexer": "ipython3",
   "version": "3.9.4"
  },
  "orig_nbformat": 2,
  "kernelspec": {
   "name": "python394jvsc74a57bd025ae2642293aa5d6c820812762d1bd8f1194d90c401126a843d2eac1443124b0",
   "display_name": "Python 3.9.4 64-bit ('graph_env': conda)"
  },
  "metadata": {
   "interpreter": {
    "hash": "25ae2642293aa5d6c820812762d1bd8f1194d90c401126a843d2eac1443124b0"
   }
  }
 },
 "nbformat": 4,
 "nbformat_minor": 2,
 "cells": [
  {
   "cell_type": "code",
   "execution_count": 1,
   "metadata": {},
   "outputs": [
    {
     "output_type": "stream",
     "name": "stderr",
     "text": [
      "Using backend: pytorch\n"
     ]
    }
   ],
   "source": [
    "import dgl\n",
    "import numpy as np\n",
    "import torch"
   ]
  },
  {
   "cell_type": "code",
   "execution_count": 2,
   "metadata": {},
   "outputs": [],
   "source": [
    "# Objective\n",
    "# 1. Construct a graph in DGL from scratch\n",
    "# 2. Assign node and edge features to a graph\n",
    "# 3. Query properties of a DGL graph such as node degrees and connectivity\n",
    "# 4. Transform a DGL graph into another graph\n",
    "# 5. Load and save DGL graphs"
   ]
  },
  {
   "cell_type": "code",
   "execution_count": 8,
   "metadata": {},
   "outputs": [
    {
     "output_type": "stream",
     "name": "stdout",
     "text": [
      "nodes:  tensor([0, 1, 2, 3, 4, 5])\nedges:  (tensor([0, 0, 0, 0, 0]), tensor([1, 2, 3, 4, 5]))\n"
     ]
    }
   ],
   "source": [
    "# 1. Construct a graph in DGL from scratch --> source_nodes --> destination nodes\n",
    "g = dgl.graph(([0,0,0,0,0], [1,2,3,4,5]), num_nodes=6) \n",
    "# pytorch LongTensors also works \n",
    "# dgl.graph((torch.LongTensor([0, 0, 0, 0, 0]), torch.LongTensor([1, 2, 3, 4, 5])), num_nodes=6)\n",
    "# dgl.graph((torch.LongTensor([0, 0, 0, 0, 0]), torch.LongTensor([1, 2, 3, 4, 5]))\n",
    "print('nodes: ', g.nodes())\n",
    "print('edges: ', g.edges())"
   ]
  },
  {
   "cell_type": "code",
   "execution_count": 12,
   "metadata": {},
   "outputs": [],
   "source": [
    "# Assign a 3-d node feature vector for each node\n",
    "g.ndata['x'] = torch.randn(6,3)\n",
    "# Assign a 4-d edge feature vector for each edge\n",
    "g.edata['a'] = torch.randn(5,4)\n",
    "# Assign a 5x4 node feature matrix for each node. Node and edge features in DGL can be multi-dimensional\n",
    "g.ndata['y'] = torch.randn(6,5,4)\n"
   ]
  },
  {
   "cell_type": "code",
   "execution_count": 22,
   "metadata": {},
   "outputs": [],
   "source": [
    "# Induce a subgraph from node 0, node 1 and node 3 from the original graph\n",
    "sg1 = g.subgraph([0, 1, 3])\n",
    "\n",
    "# Induce subgraph from edge 0, edge 1, and edge 3 from the original graph\n",
    "sg2 = g.edge_subgraph([0, 1, 3])"
   ]
  },
  {
   "cell_type": "code",
   "execution_count": 25,
   "metadata": {},
   "outputs": [
    {
     "output_type": "stream",
     "name": "stdout",
     "text": [
      "tensor([0, 1, 3])\ntensor([0, 1, 3])\n"
     ]
    }
   ],
   "source": [
    "# The original IDs of each node in sg1\n",
    "print(sg1.ndata[dgl.NID])\n",
    "# The original IDs of each edge in sg1\n",
    "print(sg1.ndata[dgl.EID])"
   ]
  },
  {
   "cell_type": "code",
   "execution_count": 26,
   "metadata": {},
   "outputs": [
    {
     "output_type": "stream",
     "name": "stdout",
     "text": [
      "tensor([0, 1, 2, 4])\ntensor([0, 1, 3])\n"
     ]
    }
   ],
   "source": [
    "# The original IDs of each node in sg2\n",
    "print(sg2.ndata[dgl.NID])\n",
    "# The original IDs of each edge in sg2\n",
    "print(sg2.edata[dgl.EID])"
   ]
  },
  {
   "cell_type": "code",
   "execution_count": 27,
   "metadata": {},
   "outputs": [
    {
     "output_type": "stream",
     "name": "stdout",
     "text": [
      "tensor([[-0.5014,  0.0623, -0.1747],\n        [ 0.5655,  0.8478, -0.1648],\n        [ 0.1427,  1.1246,  1.1225]])\ntensor([[ 0.8113, -0.8511,  1.1330,  0.9474],\n        [ 0.2626, -1.2309, -0.3946, -0.6059]])\ntensor([[-0.5014,  0.0623, -0.1747],\n        [ 0.5655,  0.8478, -0.1648],\n        [ 0.7736, -0.0905,  0.2630],\n        [-0.5171,  1.8167,  0.6844]])\ntensor([[ 0.8113, -0.8511,  1.1330,  0.9474],\n        [ 1.4226, -3.0010, -2.0849,  0.4687],\n        [ 0.3475,  1.3411,  0.0846,  0.5755]])\n"
     ]
    }
   ],
   "source": [
    "# The original node feature of each node in sg1\n",
    "print(sg1.ndata['x'])\n",
    "# The original edge feature of each node in sg1\n",
    "print(sg1.edata['a'])\n",
    "# The original node feature of each node in sg2\n",
    "print(sg2.ndata['x'])\n",
    "# The original edge feature of each node in sg2\n",
    "print(sg2.edata['a'])"
   ]
  },
  {
   "cell_type": "code",
   "execution_count": 28,
   "metadata": {},
   "outputs": [
    {
     "output_type": "execute_result",
     "data": {
      "text/plain": [
       "(tensor([0, 0, 0, 0, 0, 1, 2, 3, 4, 5]),\n",
       " tensor([1, 2, 3, 4, 5, 0, 0, 0, 0, 0]))"
      ]
     },
     "metadata": {},
     "execution_count": 28
    }
   ],
   "source": [
    "# For undirected graph, convert into a bidirectional graph first by add reverse edges\n",
    "newg = dgl.add_reverse_edges(g)\n",
    "newg.edges()"
   ]
  },
  {
   "cell_type": "code",
   "execution_count": 30,
   "metadata": {},
   "outputs": [],
   "source": [
    "# Save graphs\n",
    "dgl.save_graphs('graph.dgl', g)\n",
    "dgl.save_graphs('graphs.dgl', [g, sg1, sg2])"
   ]
  },
  {
   "cell_type": "code",
   "execution_count": 32,
   "metadata": {},
   "outputs": [
    {
     "output_type": "stream",
     "name": "stdout",
     "text": [
      "Graph(num_nodes=6, num_edges=5,\n      ndata_schemes={'y': Scheme(shape=(5, 4), dtype=torch.float32), 'x': Scheme(shape=(3,), dtype=torch.float32)}\n      edata_schemes={'a': Scheme(shape=(4,), dtype=torch.float32)})\nGraph(num_nodes=6, num_edges=5,\n      ndata_schemes={'y': Scheme(shape=(5, 4), dtype=torch.float32), 'x': Scheme(shape=(3,), dtype=torch.float32)}\n      edata_schemes={'a': Scheme(shape=(4,), dtype=torch.float32)})\nGraph(num_nodes=3, num_edges=2,\n      ndata_schemes={'_ID': Scheme(shape=(), dtype=torch.int64), 'x': Scheme(shape=(3,), dtype=torch.float32), 'y': Scheme(shape=(5, 4), dtype=torch.float32)}\n      edata_schemes={'_ID': Scheme(shape=(), dtype=torch.int64), 'a': Scheme(shape=(4,), dtype=torch.float32)})\nGraph(num_nodes=4, num_edges=3,\n      ndata_schemes={'_ID': Scheme(shape=(), dtype=torch.int64), 'x': Scheme(shape=(3,), dtype=torch.float32), 'y': Scheme(shape=(5, 4), dtype=torch.float32)}\n      edata_schemes={'_ID': Scheme(shape=(), dtype=torch.int64), 'a': Scheme(shape=(4,), dtype=torch.float32)})\n"
     ]
    }
   ],
   "source": [
    "# Load graphs\n",
    "(g,), _ = dgl.load_graphs('graph.dgl')\n",
    "print(g)\n",
    "\n",
    "(g, sg1, sg2), _ = dgl.load_graphs('graphs.dgl')\n",
    "print(g)\n",
    "print(sg1)\n",
    "print(sg2)"
   ]
  },
  {
   "cell_type": "code",
   "execution_count": null,
   "metadata": {},
   "outputs": [],
   "source": []
  }
 ]
}